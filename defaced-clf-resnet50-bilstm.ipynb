{
 "cells": [
  {
   "cell_type": "code",
   "execution_count": 1,
   "metadata": {
    "execution": {
     "iopub.execute_input": "2025-05-18T19:22:12.104543Z",
     "iopub.status.busy": "2025-05-18T19:22:12.103839Z",
     "iopub.status.idle": "2025-05-18T19:22:27.111250Z",
     "shell.execute_reply": "2025-05-18T19:22:27.110657Z",
     "shell.execute_reply.started": "2025-05-18T19:22:12.104515Z"
    },
    "trusted": true
   },
   "outputs": [
    {
     "name": "stderr",
     "output_type": "stream",
     "text": [
      "2025-05-18 19:22:13.618827: E external/local_xla/xla/stream_executor/cuda/cuda_fft.cc:477] Unable to register cuFFT factory: Attempting to register factory for plugin cuFFT when one has already been registered\n",
      "WARNING: All log messages before absl::InitializeLog() is called are written to STDERR\n",
      "E0000 00:00:1747596133.812927      35 cuda_dnn.cc:8310] Unable to register cuDNN factory: Attempting to register factory for plugin cuDNN when one has already been registered\n",
      "E0000 00:00:1747596133.869152      35 cuda_blas.cc:1418] Unable to register cuBLAS factory: Attempting to register factory for plugin cuBLAS when one has already been registered\n"
     ]
    }
   ],
   "source": [
    "import tensorflow as tf\n",
    "from tensorflow.keras import layers, models\n",
    "from tensorflow.keras.applications import ResNet50\n",
    "from tensorflow.keras.preprocessing.text import Tokenizer\n",
    "from tensorflow.keras.preprocessing.sequence import pad_sequences\n",
    "from tensorflow.keras.callbacks import EarlyStopping\n",
    "from tensorflow.keras.utils import plot_model\n",
    "from sklearn.utils.class_weight import compute_class_weight\n",
    "from sklearn.metrics import classification_report, precision_score, recall_score, f1_score, confusion_matrix\n",
    "import numpy as np\n",
    "import os\n",
    "import pandas as pd\n",
    "from sklearn.model_selection import train_test_split\n",
    "import matplotlib.pyplot as plt\n",
    "import seaborn as sns\n",
    "# Tham số\n",
    "IMG_SIZE = (144, 256)\n",
    "BATCH_SIZE = 32\n",
    "EPOCHS = 30\n",
    "CLASSNAME = sorted(os.listdir('/kaggle/input/dataset02/dataset_split/train'))\n",
    "max_words = 5000  # Maximum vocabulary size\n",
    "max_len = 128  # Fixed sequence length\n"
   ]
  },
  {
   "cell_type": "code",
   "execution_count": 2,
   "metadata": {
    "execution": {
     "iopub.execute_input": "2025-05-18T19:22:27.112799Z",
     "iopub.status.busy": "2025-05-18T19:22:27.112321Z",
     "iopub.status.idle": "2025-05-18T19:22:27.118528Z",
     "shell.execute_reply": "2025-05-18T19:22:27.117913Z",
     "shell.execute_reply.started": "2025-05-18T19:22:27.112778Z"
    },
    "trusted": true
   },
   "outputs": [
    {
     "data": {
      "text/plain": [
       "['cleaned', 'defaced']"
      ]
     },
     "execution_count": 2,
     "metadata": {},
     "output_type": "execute_result"
    }
   ],
   "source": [
    "CLASSNAME"
   ]
  },
  {
   "cell_type": "code",
   "execution_count": 3,
   "metadata": {
    "execution": {
     "iopub.execute_input": "2025-05-18T19:22:27.119699Z",
     "iopub.status.busy": "2025-05-18T19:22:27.119422Z",
     "iopub.status.idle": "2025-05-18T19:22:27.272634Z",
     "shell.execute_reply": "2025-05-18T19:22:27.271839Z",
     "shell.execute_reply.started": "2025-05-18T19:22:27.119673Z"
    },
    "trusted": true
   },
   "outputs": [
    {
     "name": "stdout",
     "output_type": "stream",
     "text": [
      "Train set: X_train: (1084, 128), y_train: (1084,)\n",
      "Validation set: X_val: (232, 128), y_val: (232,)\n",
      "Test set: X_test: (233, 128), y_test: (233,)\n",
      "Train class distribution: [529 555]\n",
      "Val class distribution: [113 119]\n",
      "Test class distribution: [114 119]\n"
     ]
    }
   ],
   "source": [
    "def load_and_processing_dataset(path):\n",
    "    data = pd.read_csv(path)\n",
    "    # Xử lý văn bản\n",
    "    X = data['HTML Text'].astype(str).values\n",
    "    y = data['Label'].map({'clean': 0, 'defaced': 1}).values\n",
    "    tokenizer = Tokenizer(\n",
    "        num_words=max_words,\n",
    "        oov_token='<OOV>',\n",
    "        lower=True,\n",
    "        filters='!\"#$%&()*+,-./:;<=>?@[\\\\]^_`{|}~\\t\\n',\n",
    "        split=' '\n",
    "    )\n",
    "    tokenizer.fit_on_texts(X)\n",
    "    X_seq = tokenizer.texts_to_sequences(X)\n",
    "    X_padded = pad_sequences(X_seq, maxlen=max_len, padding='post', truncating='post')\n",
    "    # Lấy đường dẫn ảnh\n",
    "    img_paths = data['Image Path'].apply(lambda x: x.replace('\\\\', '/')).to_list()\n",
    "    return X_padded, y, img_paths\n",
    "    \n",
    "X_train, y_train, train_path = load_and_processing_dataset('/kaggle/input/dataset02/dataset_split/train.csv')\n",
    "X_val, y_val, val_path = load_and_processing_dataset('/kaggle/input/dataset02/dataset_split/val.csv')\n",
    "X_test, y_test, test_path = load_and_processing_dataset('/kaggle/input/dataset02/dataset_split/test.csv')\n",
    "\n",
    "\n",
    "# Check shapes\n",
    "print(f\"Train set: X_train: {X_train.shape}, y_train: {y_train.shape}\")\n",
    "print(f\"Validation set: X_val: {X_val.shape}, y_val: {y_val.shape}\")\n",
    "print(f\"Test set: X_test: {X_test.shape}, y_test: {y_test.shape}\")\n",
    "\n",
    "# Check class balance\n",
    "print(\"Train class distribution:\", np.bincount(y_train))\n",
    "print(\"Val class distribution:\", np.bincount(y_val))\n",
    "print(\"Test class distribution:\", np.bincount(y_test))"
   ]
  },
  {
   "cell_type": "code",
   "execution_count": 4,
   "metadata": {
    "_cell_guid": "b1076dfc-b9ad-4769-8c92-a6c4dae69d19",
    "_uuid": "8f2839f25d086af736a60e9eeb907d3b93b6e0e5",
    "execution": {
     "iopub.execute_input": "2025-05-18T19:22:27.274602Z",
     "iopub.status.busy": "2025-05-18T19:22:27.274361Z",
     "iopub.status.idle": "2025-05-18T19:22:33.141227Z",
     "shell.execute_reply": "2025-05-18T19:22:33.140452Z",
     "shell.execute_reply.started": "2025-05-18T19:22:27.274583Z"
    },
    "trusted": true
   },
   "outputs": [
    {
     "name": "stdout",
     "output_type": "stream",
     "text": [
      "Found 1084 files belonging to 2 classes.\n"
     ]
    },
    {
     "name": "stderr",
     "output_type": "stream",
     "text": [
      "I0000 00:00:1747596150.588775      35 gpu_device.cc:2022] Created device /job:localhost/replica:0/task:0/device:GPU:0 with 15513 MB memory:  -> device: 0, name: Tesla P100-PCIE-16GB, pci bus id: 0000:00:04.0, compute capability: 6.0\n"
     ]
    },
    {
     "name": "stdout",
     "output_type": "stream",
     "text": [
      "Found 232 files belonging to 2 classes.\n",
      "Found 233 files belonging to 2 classes.\n"
     ]
    }
   ],
   "source": [
    "# Load dữ liệu\n",
    "def load_dataset(path, shuffle=True):\n",
    "    ds = tf.keras.utils.image_dataset_from_directory(\n",
    "        directory=path,\n",
    "        labels=\"inferred\",\n",
    "        label_mode=\"binary\",\n",
    "        class_names=CLASSNAME,\n",
    "        batch_size=BATCH_SIZE,\n",
    "        image_size=IMG_SIZE,\n",
    "        interpolation = 'bilinear'        \n",
    "    )\n",
    "    normalization_layer = layers.Rescaling(1./255)\n",
    "    ds = ds.map(lambda x, y: (normalization_layer(x), y))\n",
    "    return ds.cache().prefetch(tf.data.AUTOTUNE)\n",
    "\n",
    "train_ds = load_dataset(\"/kaggle/input/dataset02/dataset_split/train\")\n",
    "val_ds   = load_dataset(\"/kaggle/input/dataset02/dataset_split/val\")\n",
    "test_ds  = load_dataset(\"/kaggle/input/dataset02/dataset_split/test\")\n",
    "\n",
    "# Tính class weight\n",
    "class_weights = compute_class_weight('balanced', classes=np.unique(y_train), y=y_train)\n",
    "class_weight_dict = {i: class_weights[i] for i in range(len(class_weights))}"
   ]
  },
  {
   "cell_type": "code",
   "execution_count": 5,
   "metadata": {
    "execution": {
     "iopub.execute_input": "2025-05-18T19:22:33.142499Z",
     "iopub.status.busy": "2025-05-18T19:22:33.142260Z",
     "iopub.status.idle": "2025-05-18T19:23:49.798985Z",
     "shell.execute_reply": "2025-05-18T19:23:49.798304Z",
     "shell.execute_reply.started": "2025-05-18T19:22:33.142479Z"
    },
    "trusted": true
   },
   "outputs": [
    {
     "name": "stdout",
     "output_type": "stream",
     "text": [
      "Downloading data from https://storage.googleapis.com/tensorflow/keras-applications/resnet/resnet50_weights_tf_dim_ordering_tf_kernels_notop.h5\n",
      "\u001b[1m94765736/94765736\u001b[0m \u001b[32m━━━━━━━━━━━━━━━━━━━━\u001b[0m\u001b[37m\u001b[0m \u001b[1m0s\u001b[0m 0us/step\n",
      "Epoch 1/30\n"
     ]
    },
    {
     "name": "stderr",
     "output_type": "stream",
     "text": [
      "WARNING: All log messages before absl::InitializeLog() is called are written to STDERR\n",
      "I0000 00:00:1747596170.756970     103 service.cc:148] XLA service 0x7e7170002370 initialized for platform CUDA (this does not guarantee that XLA will be used). Devices:\n",
      "I0000 00:00:1747596170.757483     103 service.cc:156]   StreamExecutor device (0): Tesla P100-PCIE-16GB, Compute Capability 6.0\n",
      "I0000 00:00:1747596173.610425     103 cuda_dnn.cc:529] Loaded cuDNN version 90300\n"
     ]
    },
    {
     "name": "stdout",
     "output_type": "stream",
     "text": [
      "\u001b[1m 3/34\u001b[0m \u001b[32m━\u001b[0m\u001b[37m━━━━━━━━━━━━━━━━━━━\u001b[0m \u001b[1m1s\u001b[0m 53ms/step - accuracy: 0.4583 - loss: 0.7113 "
     ]
    },
    {
     "name": "stderr",
     "output_type": "stream",
     "text": [
      "I0000 00:00:1747596179.840662     103 device_compiler.h:188] Compiled cluster using XLA!  This line is logged at most once for the lifetime of the process.\n"
     ]
    },
    {
     "name": "stdout",
     "output_type": "stream",
     "text": [
      "\u001b[1m34/34\u001b[0m \u001b[32m━━━━━━━━━━━━━━━━━━━━\u001b[0m\u001b[37m\u001b[0m \u001b[1m44s\u001b[0m 600ms/step - accuracy: 0.6582 - loss: 0.6134 - val_accuracy: 0.5905 - val_loss: 0.6846\n",
      "Epoch 2/30\n",
      "\u001b[1m34/34\u001b[0m \u001b[32m━━━━━━━━━━━━━━━━━━━━\u001b[0m\u001b[37m\u001b[0m \u001b[1m2s\u001b[0m 60ms/step - accuracy: 0.8395 - loss: 0.4007 - val_accuracy: 0.6336 - val_loss: 0.6812\n",
      "Epoch 3/30\n",
      "\u001b[1m34/34\u001b[0m \u001b[32m━━━━━━━━━━━━━━━━━━━━\u001b[0m\u001b[37m\u001b[0m \u001b[1m2s\u001b[0m 59ms/step - accuracy: 0.8544 - loss: 0.3280 - val_accuracy: 0.6940 - val_loss: 0.6730\n",
      "Epoch 4/30\n",
      "\u001b[1m34/34\u001b[0m \u001b[32m━━━━━━━━━━━━━━━━━━━━\u001b[0m\u001b[37m\u001b[0m \u001b[1m2s\u001b[0m 60ms/step - accuracy: 0.8840 - loss: 0.2778 - val_accuracy: 0.7069 - val_loss: 0.6649\n",
      "Epoch 5/30\n",
      "\u001b[1m34/34\u001b[0m \u001b[32m━━━━━━━━━━━━━━━━━━━━\u001b[0m\u001b[37m\u001b[0m \u001b[1m2s\u001b[0m 59ms/step - accuracy: 0.8950 - loss: 0.2444 - val_accuracy: 0.6595 - val_loss: 0.6596\n",
      "Epoch 6/30\n",
      "\u001b[1m34/34\u001b[0m \u001b[32m━━━━━━━━━━━━━━━━━━━━\u001b[0m\u001b[37m\u001b[0m \u001b[1m2s\u001b[0m 59ms/step - accuracy: 0.9238 - loss: 0.2072 - val_accuracy: 0.6466 - val_loss: 0.6498\n",
      "Epoch 7/30\n",
      "\u001b[1m34/34\u001b[0m \u001b[32m━━━━━━━━━━━━━━━━━━━━\u001b[0m\u001b[37m\u001b[0m \u001b[1m2s\u001b[0m 59ms/step - accuracy: 0.9335 - loss: 0.1834 - val_accuracy: 0.6509 - val_loss: 0.6274\n",
      "Epoch 8/30\n",
      "\u001b[1m34/34\u001b[0m \u001b[32m━━━━━━━━━━━━━━━━━━━━\u001b[0m\u001b[37m\u001b[0m \u001b[1m2s\u001b[0m 59ms/step - accuracy: 0.9390 - loss: 0.1649 - val_accuracy: 0.7069 - val_loss: 0.5809\n",
      "Epoch 9/30\n",
      "\u001b[1m34/34\u001b[0m \u001b[32m━━━━━━━━━━━━━━━━━━━━\u001b[0m\u001b[37m\u001b[0m \u001b[1m2s\u001b[0m 59ms/step - accuracy: 0.9530 - loss: 0.1350 - val_accuracy: 0.7931 - val_loss: 0.5017\n",
      "Epoch 10/30\n",
      "\u001b[1m34/34\u001b[0m \u001b[32m━━━━━━━━━━━━━━━━━━━━\u001b[0m\u001b[37m\u001b[0m \u001b[1m2s\u001b[0m 59ms/step - accuracy: 0.9642 - loss: 0.1198 - val_accuracy: 0.8147 - val_loss: 0.4205\n",
      "Epoch 11/30\n",
      "\u001b[1m34/34\u001b[0m \u001b[32m━━━━━━━━━━━━━━━━━━━━\u001b[0m\u001b[37m\u001b[0m \u001b[1m2s\u001b[0m 59ms/step - accuracy: 0.9716 - loss: 0.1018 - val_accuracy: 0.8793 - val_loss: 0.3472\n",
      "Epoch 12/30\n",
      "\u001b[1m34/34\u001b[0m \u001b[32m━━━━━━━━━━━━━━━━━━━━\u001b[0m\u001b[37m\u001b[0m \u001b[1m2s\u001b[0m 59ms/step - accuracy: 0.9729 - loss: 0.0884 - val_accuracy: 0.8707 - val_loss: 0.3144\n",
      "Epoch 13/30\n",
      "\u001b[1m34/34\u001b[0m \u001b[32m━━━━━━━━━━━━━━━━━━━━\u001b[0m\u001b[37m\u001b[0m \u001b[1m2s\u001b[0m 60ms/step - accuracy: 0.9810 - loss: 0.0718 - val_accuracy: 0.8707 - val_loss: 0.3004\n",
      "Epoch 14/30\n",
      "\u001b[1m34/34\u001b[0m \u001b[32m━━━━━━━━━━━━━━━━━━━━\u001b[0m\u001b[37m\u001b[0m \u001b[1m2s\u001b[0m 56ms/step - accuracy: 0.9856 - loss: 0.0659 - val_accuracy: 0.8491 - val_loss: 0.3233\n",
      "Epoch 15/30\n",
      "\u001b[1m34/34\u001b[0m \u001b[32m━━━━━━━━━━━━━━━━━━━━\u001b[0m\u001b[37m\u001b[0m \u001b[1m2s\u001b[0m 55ms/step - accuracy: 0.9870 - loss: 0.0521 - val_accuracy: 0.8491 - val_loss: 0.3585\n",
      "Epoch 16/30\n",
      "\u001b[1m34/34\u001b[0m \u001b[32m━━━━━━━━━━━━━━━━━━━━\u001b[0m\u001b[37m\u001b[0m \u001b[1m2s\u001b[0m 55ms/step - accuracy: 0.9881 - loss: 0.0480 - val_accuracy: 0.8578 - val_loss: 0.3343\n",
      "Epoch 16: early stopping\n",
      "Restoring model weights from the end of the best epoch: 13.\n"
     ]
    },
    {
     "data": {
      "text/plain": [
       "<keras.src.callbacks.history.History at 0x7e72447b9450>"
      ]
     },
     "execution_count": 5,
     "metadata": {},
     "output_type": "execute_result"
    }
   ],
   "source": [
    "#ResNet50\n",
    "base_model = ResNet50(include_top=False, weights='imagenet', input_shape=(144, 256, 3))\n",
    "\n",
    "for layer in base_model.layers[:-20]: \n",
    "    layer.trainable = False\n",
    "    \n",
    "model_resnet50 = models.Sequential([\n",
    "    base_model,\n",
    "    layers.GlobalAveragePooling2D(),\n",
    "    layers.Dense(128, activation='relu'),\n",
    "    layers.Dropout(0.3),\n",
    "    layers.Dense(1, activation='sigmoid')\n",
    "])\n",
    "# Compile\n",
    "model_resnet50.compile(\n",
    "    optimizer=tf.keras.optimizers.Adam(learning_rate=1e-5),\n",
    "    loss='binary_crossentropy',\n",
    "    metrics=['accuracy'])\n",
    "\n",
    "# EarlyStopping\n",
    "early_stopping = EarlyStopping(\n",
    "    monitor='val_loss',\n",
    "    patience=3,\n",
    "    restore_best_weights=True,\n",
    "    verbose=1\n",
    ")\n",
    "\n",
    "# Train\n",
    "model_resnet50.fit(\n",
    "    train_ds,\n",
    "    validation_data=val_ds,\n",
    "    epochs=EPOCHS,\n",
    "    class_weight=class_weight_dict,\n",
    "    callbacks=[early_stopping]\n",
    ")"
   ]
  },
  {
   "cell_type": "code",
   "execution_count": 6,
   "metadata": {
    "execution": {
     "iopub.execute_input": "2025-05-18T19:23:49.800018Z",
     "iopub.status.busy": "2025-05-18T19:23:49.799745Z",
     "iopub.status.idle": "2025-05-18T19:24:01.339114Z",
     "shell.execute_reply": "2025-05-18T19:24:01.338334Z",
     "shell.execute_reply.started": "2025-05-18T19:23:49.799990Z"
    },
    "trusted": true
   },
   "outputs": [
    {
     "name": "stdout",
     "output_type": "stream",
     "text": [
      "\u001b[1m1/1\u001b[0m \u001b[32m━━━━━━━━━━━━━━━━━━━━\u001b[0m\u001b[37m\u001b[0m \u001b[1m5s\u001b[0m 5s/step\n",
      "\u001b[1m1/1\u001b[0m \u001b[32m━━━━━━━━━━━━━━━━━━━━\u001b[0m\u001b[37m\u001b[0m \u001b[1m0s\u001b[0m 85ms/step\n",
      "\u001b[1m1/1\u001b[0m \u001b[32m━━━━━━━━━━━━━━━━━━━━\u001b[0m\u001b[37m\u001b[0m \u001b[1m0s\u001b[0m 73ms/step\n",
      "\u001b[1m1/1\u001b[0m \u001b[32m━━━━━━━━━━━━━━━━━━━━\u001b[0m\u001b[37m\u001b[0m \u001b[1m0s\u001b[0m 82ms/step\n",
      "\u001b[1m1/1\u001b[0m \u001b[32m━━━━━━━━━━━━━━━━━━━━\u001b[0m\u001b[37m\u001b[0m \u001b[1m0s\u001b[0m 71ms/step\n",
      "\u001b[1m1/1\u001b[0m \u001b[32m━━━━━━━━━━━━━━━━━━━━\u001b[0m\u001b[37m\u001b[0m \u001b[1m0s\u001b[0m 76ms/step\n",
      "\u001b[1m1/1\u001b[0m \u001b[32m━━━━━━━━━━━━━━━━━━━━\u001b[0m\u001b[37m\u001b[0m \u001b[1m0s\u001b[0m 77ms/step\n",
      "\u001b[1m1/1\u001b[0m \u001b[32m━━━━━━━━━━━━━━━━━━━━\u001b[0m\u001b[37m\u001b[0m \u001b[1m5s\u001b[0m 5s/step\n",
      "=== Evaluation on Test Set ===\n",
      "Precision (macro): 0.9198\n",
      "Recall (macro):    0.9116\n",
      "F1-score (macro):  0.9095\n",
      "\n",
      "Detailed classification report:\n",
      "              precision    recall  f1-score   support\n",
      "\n",
      "     cleaned       0.85      0.99      0.91       114\n",
      "     defaced       0.99      0.83      0.90       119\n",
      "\n",
      "    accuracy                           0.91       233\n",
      "   macro avg       0.92      0.91      0.91       233\n",
      "weighted avg       0.92      0.91      0.91       233\n",
      "\n"
     ]
    },
    {
     "data": {
      "image/png": "[encoded data removed]",
      "text/plain": [
       "<Figure size 800x600 with 2 Axes>"
      ]
     },
     "metadata": {},
     "output_type": "display_data"
    }
   ],
   "source": [
    "# Đánh giá\n",
    "true_val, pred_val = [], []\n",
    "for x, y in test_ds:\n",
    "    preds = model_resnet50.predict(x)\n",
    "    preds = (preds > 0.5).astype(int).flatten()\n",
    "    true_val.extend(y.numpy())\n",
    "    pred_val.extend(preds)\n",
    "\n",
    "print(\"=== Evaluation on Test Set ===\")\n",
    "print(f\"Precision (macro): {precision_score(true_val, pred_val, average='macro'):.4f}\")\n",
    "print(f\"Recall (macro):    {recall_score(true_val, pred_val, average='macro'):.4f}\")\n",
    "print(f\"F1-score (macro):  {f1_score(true_val, pred_val, average='macro'):.4f}\")\n",
    "print(\"\\nDetailed classification report:\")\n",
    "print(classification_report(true_val, pred_val, target_names=CLASSNAME))\n",
    "\n",
    "\n",
    "# Create and plot confusion matrix\n",
    "plt.figure(figsize=(8, 6))\n",
    "cm = confusion_matrix(true_val, pred_val)\n",
    "sns.heatmap(cm, annot=True, fmt='d', cmap='Blues',\n",
    "            xticklabels=CLASSNAME,\n",
    "            yticklabels=CLASSNAME)\n",
    "plt.title('Confusion Matrix(ResNet50)')\n",
    "plt.ylabel('True Label')\n",
    "plt.xlabel('Predicted Label')\n",
    "plt.savefig('CM_ResNet50.png')\n",
    "plt.show()"
   ]
  },
  {
   "cell_type": "code",
   "execution_count": 7,
   "metadata": {
    "execution": {
     "iopub.execute_input": "2025-05-18T19:24:01.340385Z",
     "iopub.status.busy": "2025-05-18T19:24:01.340151Z",
     "iopub.status.idle": "2025-05-18T19:24:11.473081Z",
     "shell.execute_reply": "2025-05-18T19:24:11.472389Z",
     "shell.execute_reply.started": "2025-05-18T19:24:01.340367Z"
    },
    "trusted": true
   },
   "outputs": [
    {
     "name": "stdout",
     "output_type": "stream",
     "text": [
      "Epoch 1/30\n"
     ]
    },
    {
     "name": "stderr",
     "output_type": "stream",
     "text": [
      "/usr/local/lib/python3.11/dist-packages/keras/src/layers/core/embedding.py:90: UserWarning: Argument `input_length` is deprecated. Just remove it.\n",
      "  warnings.warn(\n"
     ]
    },
    {
     "name": "stdout",
     "output_type": "stream",
     "text": [
      "\u001b[1m34/34\u001b[0m \u001b[32m━━━━━━━━━━━━━━━━━━━━\u001b[0m\u001b[37m\u001b[0m \u001b[1m8s\u001b[0m 36ms/step - accuracy: 0.7450 - loss: 0.5957 - val_accuracy: 0.9009 - val_loss: 0.2820\n",
      "Epoch 2/30\n",
      "\u001b[1m34/34\u001b[0m \u001b[32m━━━━━━━━━━━━━━━━━━━━\u001b[0m\u001b[37m\u001b[0m \u001b[1m1s\u001b[0m 19ms/step - accuracy: 0.9675 - loss: 0.0819 - val_accuracy: 0.8405 - val_loss: 0.3429\n",
      "Epoch 3/30\n",
      "\u001b[1m34/34\u001b[0m \u001b[32m━━━━━━━━━━━━━━━━━━━━\u001b[0m\u001b[37m\u001b[0m \u001b[1m1s\u001b[0m 19ms/step - accuracy: 0.9836 - loss: 0.0418 - val_accuracy: 0.8233 - val_loss: 0.4556\n",
      "Epoch 4/30\n",
      "\u001b[1m34/34\u001b[0m \u001b[32m━━━━━━━━━━━━━━━━━━━━\u001b[0m\u001b[37m\u001b[0m \u001b[1m1s\u001b[0m 19ms/step - accuracy: 0.9968 - loss: 0.0106 - val_accuracy: 0.8103 - val_loss: 0.4826\n",
      "Epoch 4: early stopping\n",
      "Restoring model weights from the end of the best epoch: 1.\n"
     ]
    },
    {
     "data": {
      "text/plain": [
       "<keras.src.callbacks.history.History at 0x7e7176f1b490>"
      ]
     },
     "execution_count": 7,
     "metadata": {},
     "output_type": "execute_result"
    }
   ],
   "source": [
    "model_bilstm = models.Sequential([\n",
    "    layers.Embedding(input_dim=max_words, output_dim=100, input_length=max_len),\n",
    "    layers.Bidirectional(layers.LSTM(64, return_sequences=False, dropout=0.1)),\n",
    "    layers.Dense(128, activation='relu'),\n",
    "    layers.Dropout(0.1),\n",
    "    layers.Dense(1, activation='sigmoid')\n",
    "])\n",
    "\n",
    "# Compile the model\n",
    "model_bilstm.compile(optimizer='adam', loss='binary_crossentropy', metrics=['accuracy'])\n",
    "\n",
    "# Huấn luyện BiLSTM\n",
    "model_bilstm.fit(\n",
    "    X_train, y_train, \n",
    "    epochs=EPOCHS, \n",
    "    batch_size=BATCH_SIZE,  # Đảm bảo batch size này giống với ResNet50\n",
    "    validation_data = (X_val, y_val),\n",
    "    class_weight=class_weight_dict, \n",
    "    callbacks=[early_stopping]\n",
    ")\n"
   ]
  },
  {
   "cell_type": "code",
   "execution_count": 8,
   "metadata": {
    "execution": {
     "iopub.execute_input": "2025-05-18T19:24:11.474641Z",
     "iopub.status.busy": "2025-05-18T19:24:11.473877Z",
     "iopub.status.idle": "2025-05-18T19:24:12.550689Z",
     "shell.execute_reply": "2025-05-18T19:24:12.549961Z",
     "shell.execute_reply.started": "2025-05-18T19:24:11.474615Z"
    },
    "trusted": true
   },
   "outputs": [
    {
     "name": "stdout",
     "output_type": "stream",
     "text": [
      "\u001b[1m8/8\u001b[0m \u001b[32m━━━━━━━━━━━━━━━━━━━━\u001b[0m\u001b[37m\u001b[0m \u001b[1m1s\u001b[0m 60ms/step\n",
      "Precision (macro): 0.9111\n",
      "Recall (macro):    0.9030\n",
      "F1-score (macro):  0.9009\n",
      "\n",
      "Detailed classification report:\n",
      "              precision    recall  f1-score   support\n",
      "\n",
      "     cleaned       0.84      0.98      0.91       114\n",
      "     defaced       0.98      0.82      0.89       119\n",
      "\n",
      "    accuracy                           0.90       233\n",
      "   macro avg       0.91      0.90      0.90       233\n",
      "weighted avg       0.91      0.90      0.90       233\n",
      "\n"
     ]
    },
    {
     "data": {
      "image/png": "[encoded data removed]",
      "text/plain": [
       "<Figure size 800x600 with 2 Axes>"
      ]
     },
     "metadata": {},
     "output_type": "display_data"
    }
   ],
   "source": [
    "y_pred = model_bilstm.predict(X_test)\n",
    "y_pred = (y_pred > 0.5).astype(int).flatten()\n",
    "\n",
    "print(f\"Precision (macro): {precision_score(y_test, y_pred, average='macro'):.4f}\")\n",
    "print(f\"Recall (macro):    {recall_score(y_test, y_pred, average='macro'):.4f}\")\n",
    "print(f\"F1-score (macro):  {f1_score(y_test, y_pred, average='macro'):.4f}\")\n",
    "print(\"\\nDetailed classification report:\")\n",
    "print(classification_report(y_test, y_pred,target_names=CLASSNAME))\n",
    "\n",
    "plt.figure(figsize=(8, 6))\n",
    "cm = confusion_matrix(y_test, y_pred)\n",
    "sns.heatmap(cm, annot=True, fmt='d', cmap='Blues',\n",
    "            xticklabels=CLASSNAME,\n",
    "            yticklabels=CLASSNAME)\n",
    "plt.title('Confusion Matrix(BiLSTM)')\n",
    "plt.ylabel('True Label')\n",
    "plt.xlabel('Predicted Label')\n",
    "plt.savefig('CM_BiLSTM.png')\n",
    "plt.show()"
   ]
  },
  {
   "cell_type": "code",
   "execution_count": 11,
   "metadata": {
    "execution": {
     "iopub.execute_input": "2025-05-18T19:25:17.721404Z",
     "iopub.status.busy": "2025-05-18T19:25:17.720800Z",
     "iopub.status.idle": "2025-05-18T19:25:23.288114Z",
     "shell.execute_reply": "2025-05-18T19:25:23.287381Z",
     "shell.execute_reply.started": "2025-05-18T19:25:17.721380Z"
    },
    "trusted": true
   },
   "outputs": [
    {
     "name": "stdout",
     "output_type": "stream",
     "text": [
      "\u001b[1m8/8\u001b[0m \u001b[32m━━━━━━━━━━━━━━━━━━━━\u001b[0m\u001b[37m\u001b[0m \u001b[1m0s\u001b[0m 36ms/step\n",
      "\u001b[1m8/8\u001b[0m \u001b[32m━━━━━━━━━━━━━━━━━━━━\u001b[0m\u001b[37m\u001b[0m \u001b[1m0s\u001b[0m 8ms/step \n",
      "=== Soft Voting Fusion Evaluation ===\n",
      "Precision (macro): 0.9298\n",
      "Recall (macro):    0.9242\n",
      "F1-score (macro):  0.9226\n",
      "\n",
      "Detailed classification report:\n",
      "              precision    recall  f1-score   support\n",
      "\n",
      "     cleaned       0.87      0.99      0.93       114\n",
      "     defaced       0.99      0.86      0.92       119\n",
      "\n",
      "    accuracy                           0.92       233\n",
      "   macro avg       0.93      0.92      0.92       233\n",
      "weighted avg       0.93      0.92      0.92       233\n",
      "\n"
     ]
    },
    {
     "data": {
      "image/png": "[encoded data removed]",
      "text/plain": [
       "<Figure size 800x600 with 2 Axes>"
      ]
     },
     "metadata": {},
     "output_type": "display_data"
    }
   ],
   "source": [
    "def create_synced_dataset(image_paths, labels, img_size=IMG_SIZE, batch_size=BATCH_SIZE):\n",
    "    images = []\n",
    "    base_path = \"/kaggle/input/dataset02/dataset_split/\"  # Tiền tố đường dẫn\n",
    "    for path in image_paths:\n",
    "        full_path = os.path.join(base_path, path) if not path.startswith(base_path) else path\n",
    "        try:\n",
    "            img = tf.keras.preprocessing.image.load_img(full_path, target_size=img_size)\n",
    "            img_array = tf.keras.preprocessing.image.img_to_array(img)\n",
    "            images.append(img_array)\n",
    "        except FileNotFoundError as e:\n",
    "            print(f\"File not found: {full_path}. Skipping...\")\n",
    "            continue\n",
    "    if not images:\n",
    "        raise ValueError(\"No valid images found in the dataset.\")\n",
    "    images = np.array(images)\n",
    "    images = images / 255.0  # Chuẩn hóa\n",
    "    dataset = tf.data.Dataset.from_tensor_slices((images, labels))\n",
    "    dataset = dataset.batch(batch_size).prefetch(tf.data.AUTOTUNE)\n",
    "    return images, dataset\n",
    "\n",
    "test_images_synced, test_ds_synced = create_synced_dataset(test_path, y_test)\n",
    "\n",
    "resnet_probs = model_resnet50.predict(test_ds_synced)  # Xác suất từ ResNet50\n",
    "bilstm_probs = model_bilstm.predict(X_test)           # Xác suất từ BiLSTM\n",
    "\n",
    "# Hàm soft voting\n",
    "def soft_voting(pred_probs_resnet, pred_probs_bilstm, weights=[0.5, 0.5]):\n",
    "    combined_probs = weights[0] * pred_probs_resnet + weights[1] * pred_probs_bilstm\n",
    "    final_predictions = (combined_probs > 0.5).astype(int).flatten()\n",
    "    return final_predictions, combined_probs\n",
    "\n",
    "# Thực hiện soft voting\n",
    "final_preds, combined_probs = soft_voting(resnet_probs, bilstm_probs, weights=[0.5, 0.5])\n",
    "\n",
    "# Đánh giá kết quả\n",
    "true_labels = y_test\n",
    "print(\"=== Soft Voting Fusion Evaluation ===\")\n",
    "print(f\"Precision (macro): {precision_score(true_labels, final_preds, average='macro'):.4f}\")\n",
    "print(f\"Recall (macro):    {recall_score(true_labels, final_preds, average='macro'):.4f}\")\n",
    "print(f\"F1-score (macro):  {f1_score(true_labels, final_preds, average='macro'):.4f}\")\n",
    "print(\"\\nDetailed classification report:\")\n",
    "print(classification_report(true_labels, final_preds, target_names=CLASSNAME))\n",
    "\n",
    "\n",
    "\n",
    "# Create and plot confusion matrix\n",
    "plt.figure(figsize=(8, 6))\n",
    "cm = confusion_matrix(true_labels, final_preds)\n",
    "sns.heatmap(cm, annot=True, fmt='d', cmap='Blues',\n",
    "            xticklabels=CLASSNAME,\n",
    "            yticklabels=CLASSNAME)\n",
    "plt.title('Confusion Matrix (Late Fusion)')\n",
    "plt.ylabel('True Label')\n",
    "plt.xlabel('Predicted Label')\n",
    "plt.savefig('CM_LateFusion.png')\n",
    "plt.show()"
   ]
  },
  {
   "cell_type": "code",
   "execution_count": 10,
   "metadata": {
    "execution": {
     "iopub.execute_input": "2025-05-18T19:24:26.710872Z",
     "iopub.status.busy": "2025-05-18T19:24:26.710653Z",
     "iopub.status.idle": "2025-05-18T19:24:27.297465Z",
     "shell.execute_reply": "2025-05-18T19:24:27.296835Z",
     "shell.execute_reply.started": "2025-05-18T19:24:26.710855Z"
    },
    "trusted": true
   },
   "outputs": [],
   "source": [
    "model_resnet50.save(\"ResNet50.h5\")\n",
    "model_bilstm.save('BiLSTM.h5')"
   ]
  }
 ],
 "metadata": {
  "kaggle": {
   "accelerator": "gpu",
   "dataSources": [
    {
     "datasetId": 7415112,
     "sourceId": 11807003,
     "sourceType": "datasetVersion"
    },
    {
     "datasetId": 7415755,
     "sourceId": 11807885,
     "sourceType": "datasetVersion"
    }
   ],
   "dockerImageVersionId": 31041,
   "isGpuEnabled": true,
   "isInternetEnabled": true,
   "language": "python",
   "sourceType": "notebook"
  },
  "kernelspec": {
   "display_name": ".venv",
   "language": "python",
   "name": "python3"
  },
  "language_info": {
   "codemirror_mode": {
    "name": "ipython",
    "version": 3
   },
   "file_extension": ".py",
   "mimetype": "text/x-python",
   "name": "python",
   "nbconvert_exporter": "python",
   "pygments_lexer": "ipython3",
   "version": "3.11.8"
  }
 },
 "nbformat": 4,
 "nbformat_minor": 4
}
